{
 "cells": [
  {
   "cell_type": "markdown",
   "metadata": {},
   "source": [
    "Process all the weird txt files into csv files"
   ]
  },
  {
   "cell_type": "code",
   "execution_count": 21,
   "metadata": {},
   "outputs": [],
   "source": [
    "import pandas as pd\n",
    "\n",
    "def ThreeCycle(lines):\n",
    "    \"\"\"\n",
    "    Take a text file that is one column of data that should actually be 3 columns\n",
    "    and split it into 3 columns.\n",
    "    \"\"\"\n",
    "    #print(len(lines))\n",
    "    assert (len(lines) % 3) == 0, \"The number of lines is not divisible by 3.\"\n",
    "    # Replace the newline characters with nothing\n",
    "    lines = [line.strip() for line in lines]\n",
    "    \n",
    "    chromosome, start, end = [], [], []\n",
    "    for i in range(3, len(lines), 3):\n",
    "        chromosome.append(lines[i])\n",
    "        start.append(lines[i+1])\n",
    "        end.append(lines[i+2])\n",
    "    \n",
    "    assert len(chromosome) == len(start) == len(end), \"The lists are not the same length.\"\n",
    "    # Now I need to put this into a dataframe\n",
    "    data = pd.DataFrame({'Chromosome': chromosome, 'Start': start, 'End': end})\n",
    "    \n",
    "    \n",
    "    return data\n",
    "\n",
    "\n",
    "def DNADataProcess(file):\n",
    "    \"\"\"\n",
    "    Read in a text file, look at its structure, process into a dataframe\n",
    "    based on how it is structured.\n",
    "    \"\"\"\n",
    "    with open(file, 'r') as f:\n",
    "        lines = f.readlines()\n",
    "    # Remove the newline characters\n",
    "    lines = [line.strip() for line in lines]\n",
    "    if lines[0].lower() == \"chromosome\" and lines[1].lower() == \"start\" and lines[2].lower() == \"end\":\n",
    "        # Then I need to do the 3 cycle thing\n",
    "        #print(\"3 cycle\")\n",
    "        data = ThreeCycle(lines)\n",
    "    else:\n",
    "        data = pd.DataFrame([line.strip().split() for line in lines])\n",
    "        # Make the first row the columns\n",
    "        data.columns = data.iloc[0]\n",
    "        data = data[1:]\n",
    "        #print(data.columns)\n",
    "        data = data[[\"Item\", \"Cell\", \"Type\"]]\n",
    "        # Rename the columns\n",
    "        data.columns = ['Chromosome', 'Start', 'End']\n",
    "\n",
    "    # Make sure the columns are the right type\n",
    "    data['Chromosome'] = data['Chromosome'].astype(int)\n",
    "    data['Start'] = data['Start'].astype(float)\n",
    "    data['End'] = data['End'].astype(float)\n",
    "    return data"
   ]
  },
  {
   "cell_type": "code",
   "execution_count": 22,
   "metadata": {},
   "outputs": [],
   "source": [
    "import numpy as np\n",
    "\n",
    "def SpacingsPerChromosome(data: pd.DataFrame, metric = 'Interorigin', name:str = 'Dataset') -> dict:\n",
    "    \"\"\"\n",
    "    Takes in a dataframe with Chromosome, Start, End columns\n",
    "    For each chromosome, calculate the spacings between the origins\n",
    "    If metric = 'Interorigin' then the spacing is between midpoints\n",
    "    If metric = 'EndToEnd' then the spacing is from end to start\n",
    "    Outputs dataset name, metric, and list of spacings\n",
    "    \"\"\"\n",
    "    assert metric in ['Interorigin', 'EndToEnd'], \"The metric is not valid, must be either Interorigin or EndToEnd.\"\n",
    "    assert 'Chromosome' in data.columns, \"The dataframe does not have a Chromosome column.\"\n",
    "    assert 'Start' in data.columns, \"The dataframe does not have a Start column.\"\n",
    "    assert 'End' in data.columns, \"The dataframe does not have an End column.\"\n",
    "    \n",
    "    SpacingList = []\n",
    "    if metric == 'Interorigin':\n",
    "        data[\"Midpoint\"] = (data['Start'] + data['End']) / 2\n",
    "        #print(\"Checkpoint1\")\n",
    "    for chromosome in data['Chromosome'].unique():\n",
    "        chrom_data = data[data['Chromosome'] == chromosome]\n",
    "        # Sort by start column\n",
    "        chrom_data = chrom_data.sort_values(by='Start')\n",
    "        #print(\"Checkpoint2\")\n",
    "        if metric == 'Interorigin':\n",
    "            spacings = chrom_data['Midpoint'].diff()\n",
    "            SpacingList.extend(spacings)\n",
    "        elif metric == 'EndToEnd':\n",
    "            # Each spacing is the start of the next origin minus the end of the previous origin\n",
    "            Starts = chrom_data['Start'].values[1:]\n",
    "            Ends = chrom_data['End'].values[:-1]\n",
    "            spacings = Starts - Ends\n",
    "            SpacingList.extend(spacings)\n",
    "    # Drop NaN values from the list\n",
    "    SpacingList = [spacing for spacing in SpacingList if not np.isnan(spacing)]\n",
    "    # Make mean spacing = 1\n",
    "    if len(SpacingList) == 0:\n",
    "        print(f\"No valid spacings found for {name} with metric {metric}.\")\n",
    "        return name, metric, []\n",
    "    SpacingList = np.array(SpacingList)\n",
    "    SpacingList = SpacingList / np.mean(SpacingList)  # Normalize spacings to have mean of 1\n",
    "    print(f\"The mean of the {name} spacings is {np.mean(SpacingList)}\")\n",
    "    \n",
    "    return name, metric, SpacingList"
   ]
  },
  {
   "cell_type": "code",
   "execution_count": 23,
   "metadata": {},
   "outputs": [
    {
     "name": "stdout",
     "output_type": "stream",
     "text": [
      "['rep_origins_arabidopsis.txt', 'rep_origins_candida_CBS138.txt', 'rep_origins_drosophila_Kc.txt', 'rep_origins_drosophila_S2.txt', 'rep_origins_human_K562.txt', 'rep_origins_human_MCF7.txt', 'rep_origins_k_lactis.txt', 'rep_origins_L_waltii.txt', 'rep_origins_mouse_ES1.txt', 'rep_origins_mouse_MEF.txt', 'rep_origins_mouse_P19.txt', 'rep_origins_s_cerevisiae.txt']\n"
     ]
    }
   ],
   "source": [
    "# Look at all files ending in .txt in the current \"rawdata\"\n",
    "import os\n",
    "dir_list = os.listdir(\"rawdata\")\n",
    "dir_list = [file for file in dir_list if file.endswith('.txt')]\n",
    "dir_list = [file for file in dir_list if file.startswith(\"rep_origins\")]\n",
    "print(dir_list)"
   ]
  },
  {
   "cell_type": "code",
   "execution_count": 24,
   "metadata": {},
   "outputs": [],
   "source": [
    "def name_extractor(filename: str) -> str:\n",
    "    \"\"\"\n",
    "    Extract the name from the filename\n",
    "    \"\"\"\n",
    "    # Remove the .txt extension\n",
    "    name = filename.split('.')[0]\n",
    "    # Remove the prefix \"rawdata/\"\n",
    "    name = name.split('rep_origins_')[1]\n",
    "    return name\n",
    "\n",
    "assert name_extractor('rep_origins_arabidopsis.txt') == 'arabidopsis', \"The name extractor is not working.\""
   ]
  },
  {
   "cell_type": "code",
   "execution_count": 25,
   "metadata": {},
   "outputs": [
    {
     "name": "stdout",
     "output_type": "stream",
     "text": [
      "processeddata folder already exists\n"
     ]
    }
   ],
   "source": [
    "# Check if there's a folder in the directory called processeddata\n",
    "if not os.path.exists(\"processeddata\"):\n",
    "    os.makedirs(\"processeddata\")\n",
    "    print(\"Created processeddata folder\")\n",
    "else:\n",
    "    print(\"processeddata folder already exists\")"
   ]
  },
  {
   "cell_type": "code",
   "execution_count": 26,
   "metadata": {},
   "outputs": [
    {
     "name": "stdout",
     "output_type": "stream",
     "text": [
      "The mean of the arabidopsis spacings is 0.9999999999999999\n",
      "The mean of the candida_CBS138 spacings is 1.0\n",
      "The mean of the drosophila_Kc spacings is 1.0\n",
      "The mean of the drosophila_S2 spacings is 1.0\n",
      "The mean of the human_K562 spacings is 1.0000000000000002\n",
      "The mean of the human_MCF7 spacings is 0.9999999999999999\n",
      "The mean of the k_lactis spacings is 1.0\n",
      "The mean of the L_waltii spacings is 1.0\n",
      "The mean of the mouse_ES1 spacings is 1.0\n",
      "The mean of the mouse_MEF spacings is 1.0\n",
      "The mean of the mouse_P19 spacings is 0.9999999999999999\n",
      "The mean of the s_cerevisiae spacings is 1.0\n"
     ]
    }
   ],
   "source": [
    "# For each file in the directory read it in\n",
    "for file in dir_list:\n",
    "    name = name_extractor(file)\n",
    "    data = DNADataProcess(os.path.join(\"rawdata\", file))\n",
    "    name, metric, SpacingList = SpacingsPerChromosome(data, metric = 'Interorigin', name = name)\n",
    "    temp_df = pd.DataFrame(SpacingList, columns = [f\"{metric}_spacing\"])\n",
    "    # Save the dataframe to a csv file in the processeddata folder\n",
    "    temp_df.to_csv(os.path.join(\"processeddata\", f\"{name}_{metric}_spacing.csv\"), index = False)"
   ]
  }
 ],
 "metadata": {
  "kernelspec": {
   "display_name": "superposition",
   "language": "python",
   "name": "python3"
  },
  "language_info": {
   "codemirror_mode": {
    "name": "ipython",
    "version": 3
   },
   "file_extension": ".py",
   "mimetype": "text/x-python",
   "name": "python",
   "nbconvert_exporter": "python",
   "pygments_lexer": "ipython3",
   "version": "3.13.1"
  }
 },
 "nbformat": 4,
 "nbformat_minor": 2
}
